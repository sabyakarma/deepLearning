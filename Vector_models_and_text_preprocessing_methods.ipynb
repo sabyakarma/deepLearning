{
  "nbformat": 4,
  "nbformat_minor": 0,
  "metadata": {
    "colab": {
      "provenance": [],
      "toc_visible": true
    },
    "kernelspec": {
      "name": "python3",
      "display_name": "Python 3"
    },
    "language_info": {
      "name": "python"
    }
  },
  "cells": [
    {
      "cell_type": "code",
      "source": [
        "import pandas as pd\n",
        "import nltk"
      ],
      "metadata": {
        "id": "UapCyy1mqNXq"
      },
      "execution_count": 1,
      "outputs": []
    },
    {
      "cell_type": "code",
      "source": [
        "from nltk.stem import PorterStemmer"
      ],
      "metadata": {
        "id": "iw3LnqvDqPRe"
      },
      "execution_count": 2,
      "outputs": []
    },
    {
      "cell_type": "code",
      "source": [
        "#Create an instance\n",
        "porter = PorterStemmer()"
      ],
      "metadata": {
        "id": "lGnwp9X55PNb"
      },
      "execution_count": 3,
      "outputs": []
    },
    {
      "cell_type": "code",
      "source": [
        "# check the words\n",
        "print(porter.stem(\"talking\"))"
      ],
      "metadata": {
        "colab": {
          "base_uri": "https://localhost:8080/"
        },
        "id": "6Ot3GffD5g9y",
        "outputId": "7e30a192-bca0-4bff-c0e7-60ee44d392c6"
      },
      "execution_count": 4,
      "outputs": [
        {
          "output_type": "stream",
          "name": "stdout",
          "text": [
            "talk\n"
          ]
        }
      ]
    },
    {
      "cell_type": "code",
      "source": [
        "print(porter.stem(\"danced\"))\n"
      ],
      "metadata": {
        "colab": {
          "base_uri": "https://localhost:8080/"
        },
        "id": "97ZfmpIt5pB_",
        "outputId": "dae77b1e-a567-4cb8-9ecc-15cb0c30acf6"
      },
      "execution_count": 5,
      "outputs": [
        {
          "output_type": "stream",
          "name": "stdout",
          "text": [
            "danc\n"
          ]
        }
      ]
    },
    {
      "cell_type": "code",
      "source": [
        "# check for Lematization\n",
        "from nltk.stem import WordNetLemmatizer"
      ],
      "metadata": {
        "id": "dpStfaGJ5vAx"
      },
      "execution_count": 13,
      "outputs": []
    },
    {
      "cell_type": "code",
      "source": [
        "nltk.download(\"wordnet\")"
      ],
      "metadata": {
        "colab": {
          "base_uri": "https://localhost:8080/"
        },
        "id": "frBQ_Fi16qJ8",
        "outputId": "2a414a10-a31f-47c9-9ac3-a68485b7566d"
      },
      "execution_count": 16,
      "outputs": [
        {
          "output_type": "stream",
          "name": "stderr",
          "text": [
            "[nltk_data] Downloading package wordnet to /root/nltk_data...\n"
          ]
        },
        {
          "output_type": "execute_result",
          "data": {
            "text/plain": [
              "True"
            ]
          },
          "metadata": {},
          "execution_count": 16
        }
      ]
    },
    {
      "cell_type": "code",
      "source": [
        "from nltk.corpus import wordnet"
      ],
      "metadata": {
        "id": "6Hmbw_qZ6bpS"
      },
      "execution_count": 17,
      "outputs": []
    },
    {
      "cell_type": "code",
      "source": [
        "lemmatizer = WordNetLemmatizer()"
      ],
      "metadata": {
        "id": "0Dt_jbst6B7A"
      },
      "execution_count": 18,
      "outputs": []
    },
    {
      "cell_type": "code",
      "source": [
        "print(lemmatizer.lemmatize(\"talking\"))\n",
        "print(lemmatizer.lemmatize(\"talking\", pos=wordnet.VERB))\n"
      ],
      "metadata": {
        "colab": {
          "base_uri": "https://localhost:8080/"
        },
        "id": "ZpSEtIvh6Nhn",
        "outputId": "4e20fc52-527e-4066-b7ef-05b9348b3049"
      },
      "execution_count": 20,
      "outputs": [
        {
          "output_type": "stream",
          "name": "stdout",
          "text": [
            "talking\n",
            "talk\n"
          ]
        }
      ]
    },
    {
      "cell_type": "code",
      "source": [
        "sentance = \"Donald trump has a devoted following\""
      ],
      "metadata": {
        "id": "iE7ZdH6j6VdA"
      },
      "execution_count": 35,
      "outputs": []
    },
    {
      "cell_type": "code",
      "source": [
        "words = sentance.split()"
      ],
      "metadata": {
        "id": "O12fThP88Wtp"
      },
      "execution_count": 36,
      "outputs": []
    },
    {
      "cell_type": "code",
      "source": [
        "nltk.download('averaged_perceptron_tagger')\n",
        "words_and_tags = nltk.pos_tag(words)"
      ],
      "metadata": {
        "colab": {
          "base_uri": "https://localhost:8080/"
        },
        "id": "e5OY0nw88cf1",
        "outputId": "7e788989-5a9c-46f6-b029-6bea2a9c1a5d"
      },
      "execution_count": 37,
      "outputs": [
        {
          "output_type": "stream",
          "name": "stderr",
          "text": [
            "[nltk_data] Downloading package averaged_perceptron_tagger to\n",
            "[nltk_data]     /root/nltk_data...\n",
            "[nltk_data]   Package averaged_perceptron_tagger is already up-to-\n",
            "[nltk_data]       date!\n"
          ]
        }
      ]
    },
    {
      "cell_type": "code",
      "source": [
        "words_and_tags"
      ],
      "metadata": {
        "colab": {
          "base_uri": "https://localhost:8080/"
        },
        "id": "_y_eh2xb9Uz2",
        "outputId": "08bf3aae-133b-4029-cc62-b0dd1092334f"
      },
      "execution_count": 38,
      "outputs": [
        {
          "output_type": "execute_result",
          "data": {
            "text/plain": [
              "[('Donald', 'NNP'),\n",
              " ('trump', 'NN'),\n",
              " ('has', 'VBZ'),\n",
              " ('a', 'DT'),\n",
              " ('devoted', 'VBN'),\n",
              " ('following', 'NN')]"
            ]
          },
          "metadata": {},
          "execution_count": 38
        }
      ]
    },
    {
      "cell_type": "code",
      "source": [
        "def get_wordnet_pos(wordtags):\n",
        "  if wordtags.startswith(\"N\"):\n",
        "    return wordnet.NOUN\n",
        "  if wordtags.startswith(\"J\"):\n",
        "    return wordnet.ADJ\n",
        "  if wordtags.startswith(\"V\"):\n",
        "    return wordnet.VERB\n",
        "  if wordtags.startswith(\"R\"):\n",
        "    return wordnet.ADJ\n",
        "  else:\n",
        "    return wordnet.NOUN"
      ],
      "metadata": {
        "id": "LZrkoTXs8eCg"
      },
      "execution_count": 39,
      "outputs": []
    },
    {
      "cell_type": "code",
      "source": [
        "for word, tag in words_and_tags:\n",
        "  lemma = lemmatizer.lemmatize(word, pos= get_wordnet_pos(tag))\n",
        "  print(lemma,end = \" \")"
      ],
      "metadata": {
        "colab": {
          "base_uri": "https://localhost:8080/"
        },
        "id": "5OoYqLiR9jXT",
        "outputId": "94b9469a-3fdc-41f7-91f5-c3abb75a06a3"
      },
      "execution_count": 42,
      "outputs": [
        {
          "output_type": "stream",
          "name": "stdout",
          "text": [
            "Donald trump have a devote following "
          ]
        }
      ]
    },
    {
      "cell_type": "code",
      "source": [],
      "metadata": {
        "id": "oG_cuLBv9r9Y"
      },
      "execution_count": null,
      "outputs": []
    }
  ]
}